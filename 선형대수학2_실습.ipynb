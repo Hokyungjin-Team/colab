{
  "nbformat": 4,
  "nbformat_minor": 0,
  "metadata": {
    "colab": {
      "provenance": [],
      "gpuType": "T4",
      "mount_file_id": "1rUfr17nXyquSUt4SCA3r-hgLbiIsJZK1",
      "authorship_tag": "ABX9TyMitfmLIJ1nEi0NsRvRC1bn",
      "include_colab_link": true
    },
    "kernelspec": {
      "name": "python3",
      "display_name": "Python 3"
    },
    "language_info": {
      "name": "python"
    },
    "accelerator": "GPU"
  },
  "cells": [
    {
      "cell_type": "markdown",
      "metadata": {
        "id": "view-in-github",
        "colab_type": "text"
      },
      "source": [
        "<a href=\"https://colab.research.google.com/github/Hokyungjin-Team/colab/blob/main/%EC%84%A0%ED%98%95%EB%8C%80%EC%88%98%ED%95%992_%EC%8B%A4%EC%8A%B5.ipynb\" target=\"_parent\"><img src=\"https://colab.research.google.com/assets/colab-badge.svg\" alt=\"Open In Colab\"/></a>"
      ]
    },
    {
      "cell_type": "markdown",
      "source": [
        "**프린트**"
      ],
      "metadata": {
        "id": "bxmh8wGSaF23"
      }
    },
    {
      "cell_type": "code",
      "execution_count": null,
      "metadata": {
        "colab": {
          "base_uri": "https://localhost:8080/"
        },
        "id": "MfGSLhh2Rarw",
        "outputId": "7df8e8d0-c0b4-4060-bb4f-3543bd9e07c7"
      },
      "outputs": [
        {
          "output_type": "stream",
          "name": "stdout",
          "text": [
            "Hello, world\n",
            "정수: 3,03,003,0003,00003\n",
            "실수: 256,256.1,256.12\n",
            "문자열: [Hello, world]\n"
          ]
        }
      ],
      "source": [
        "print (\"Hello, world\")\n",
        "\n",
        "# integer\n",
        "x=3\n",
        "print(\"정수: %01d,%02d,%03d,%04d,%05d\"\n",
        "      %(x,x,x,x,x))\n",
        "\n",
        "# float\n",
        "x=256.123\n",
        "print(\"실수: %.0f,%.1f,%.2f\"\n",
        "       %(x,x,x))\n",
        "#string\n",
        "x=\"Hello, world\"\n",
        "print(\"문자열: [%s]\" % (x))\n",
        "\n"
      ]
    },
    {
      "cell_type": "markdown",
      "source": [
        "반복문,조건문"
      ],
      "metadata": {
        "id": "wG4XRfyMaMXi"
      }
    },
    {
      "cell_type": "code",
      "source": [
        "contents=[\"Regression\",\"Classification\", \"SYM\",\"Clustering\",\"Dimension reduction\",\n",
        "          \"NN\",\"CNN\",\"AE\",\"GAN\",\"RNN\"]\n",
        "\n",
        "for con in contents:\n",
        "  if con in [\"Regression\",\"Classification\", \"SYM\",\"Clustering\",\"Dimension reduction\"]:\n",
        "    print (\"%s 은(는) 기계학습 내용입니다.\" %con)\n",
        "  elif con in [\"CNN\"]:\n",
        "    print(\"%s 은(는) convolutional neural network 입니다.\" %con)\n",
        "  else:\n",
        "    print(\"%s 은(는) 심층학습 내용입니다.\" %con)\n"
      ],
      "metadata": {
        "colab": {
          "base_uri": "https://localhost:8080/"
        },
        "id": "jx3Ytgw1Y1KE",
        "outputId": "760ef3a5-c3ba-440e-80e4-a0aa9c9765cb"
      },
      "execution_count": null,
      "outputs": [
        {
          "output_type": "stream",
          "name": "stdout",
          "text": [
            "Regression 은(는) 기계학습 내용입니다.\n",
            "Classification 은(는) 기계학습 내용입니다.\n",
            "SYM 은(는) 기계학습 내용입니다.\n",
            "Clustering 은(는) 기계학습 내용입니다.\n",
            "Dimension reduction 은(는) 기계학습 내용입니다.\n",
            "NN 은(는) 심층학습 내용입니다.\n",
            "CNN 은(는) convolutional neural network 입니다.\n",
            "AE 은(는) 심층학습 내용입니다.\n",
            "GAN 은(는) 심층학습 내용입니다.\n",
            "RNN 은(는) 심층학습 내용입니다.\n"
          ]
        }
      ]
    },
    {
      "cell_type": "markdown",
      "source": [
        "**반복문과 인덱스**"
      ],
      "metadata": {
        "id": "HMytxocxbV1p"
      }
    },
    {
      "cell_type": "code",
      "source": [
        "for(i,con) in enumerate(contents):\n",
        "  print(\"[%d/%d]: %s\" %(i,len(contents),con))"
      ],
      "metadata": {
        "colab": {
          "base_uri": "https://localhost:8080/"
        },
        "id": "T7ypNF-ZbaCn",
        "outputId": "a608a299-a1e1-42e7-8d19-c9e66555209b"
      },
      "execution_count": null,
      "outputs": [
        {
          "output_type": "stream",
          "name": "stdout",
          "text": [
            "[0/10]: Regression\n",
            "[1/10]: Classification\n",
            "[2/10]: SYM\n",
            "[3/10]: Clustering\n",
            "[4/10]: Dimension reduction\n",
            "[5/10]: NN\n",
            "[6/10]: CNN\n",
            "[7/10]: AE\n",
            "[8/10]: GAN\n",
            "[9/10]: RNN\n"
          ]
        }
      ]
    },
    {
      "cell_type": "markdown",
      "source": [
        "**함수**"
      ],
      "metadata": {
        "id": "Mwa386o8br3o"
      }
    },
    {
      "cell_type": "code",
      "source": [
        "def sum(a,b):\n",
        "  return a+b\n",
        "\n",
        "x=10.0\n",
        "y=20.0\n",
        "print(\"%.1f +%.1f = %.1f\"%(x,y,sum(x,y)))"
      ],
      "metadata": {
        "colab": {
          "base_uri": "https://localhost:8080/"
        },
        "id": "LG3I_hYKbtQX",
        "outputId": "c84c06e3-6f9b-478b-b045-8aa215670a69"
      },
      "execution_count": null,
      "outputs": [
        {
          "output_type": "stream",
          "name": "stdout",
          "text": [
            "10.0 +20.0 = 30.0\n"
          ]
        }
      ]
    },
    {
      "cell_type": "markdown",
      "source": [
        "**리스트**"
      ],
      "metadata": {
        "id": "3NAX1ZqacAX9"
      }
    },
    {
      "cell_type": "code",
      "source": [
        "a=[]\n",
        "b=[1,2,3]\n",
        "c=[\"Hello\",\",\",\"world\"]\n",
        "d=[1,2,3,\"x\",\"y\",\"z\"]\n",
        "x=[]\n",
        "print(x)\n",
        "\n",
        "x.append('a')\n",
        "print(x)\n",
        "\n",
        "x.append(123)\n",
        "print(x)\n",
        "\n",
        "x.append([\"a\",\"b\"])\n",
        "print(x)"
      ],
      "metadata": {
        "colab": {
          "base_uri": "https://localhost:8080/"
        },
        "id": "fCn37hOBb_rf",
        "outputId": "53b7ba4e-7fc4-484a-c73c-7c632502a610"
      },
      "execution_count": null,
      "outputs": [
        {
          "output_type": "stream",
          "name": "stdout",
          "text": [
            "[]\n",
            "['a']\n",
            "['a', 123]\n",
            "['a', 123, ['a', 'b']]\n"
          ]
        }
      ]
    },
    {
      "cell_type": "markdown",
      "source": [
        "**딕셔러니(dictionary)**"
      ],
      "metadata": {
        "id": "jhv4zEs8cbyr"
      }
    },
    {
      "cell_type": "code",
      "source": [
        "dic=dict()\n",
        "dic[\"name\"]=\"Daesik\"\n",
        "dic[\"town\"]=\"Yongin city\"\n",
        "dic[\"job\"]=\"Assistant professor\"\n",
        "print(dic)"
      ],
      "metadata": {
        "colab": {
          "base_uri": "https://localhost:8080/"
        },
        "id": "x196YMcncfIL",
        "outputId": "15880a5d-c600-4e56-8e1c-5454e3f8fad3"
      },
      "execution_count": null,
      "outputs": [
        {
          "output_type": "stream",
          "name": "stdout",
          "text": [
            "{'name': 'Daesik', 'town': 'Yongin city', 'job': 'Assistant professor'}\n"
          ]
        }
      ]
    },
    {
      "cell_type": "markdown",
      "source": [
        "**클래스**"
      ],
      "metadata": {
        "id": "UtzkwaQMcsg8"
      }
    },
    {
      "cell_type": "code",
      "source": [
        "class Student:\n",
        "    #생성자\n",
        "    def __init__(self,name):\n",
        "      self.name =name\n",
        "    #메써드\n",
        "    def study(self,hard=False):\n",
        "      if hard:\n",
        "        print (\"%s 학생은 열심히 공부합니다.\"%self.name)\n",
        "      else:\n",
        "        print (\"%s 학생은 공부합니다.\"%self.name)\n",
        "\n",
        "s=Student(\"Dasesik\")\n",
        "s.study()\n",
        "s.study(hard=True)\n"
      ],
      "metadata": {
        "colab": {
          "base_uri": "https://localhost:8080/"
        },
        "id": "UTIWnNU4ct6N",
        "outputId": "6f90052c-c969-45c7-d7d8-d94f4dcfa8ea"
      },
      "execution_count": null,
      "outputs": [
        {
          "output_type": "stream",
          "name": "stdout",
          "text": [
            "Dasesik 학생은 공부합니다.\n",
            "Dasesik 학생은 열심히 공부합니다.\n"
          ]
        }
      ]
    },
    {
      "cell_type": "markdown",
      "source": [
        "**라이브러리(패키지)로드**"
      ],
      "metadata": {
        "id": "UkeTozmk52j7"
      }
    },
    {
      "cell_type": "code",
      "source": [
        "import numpy as np"
      ],
      "metadata": {
        "id": "euBUnxHm56s_"
      },
      "execution_count": null,
      "outputs": []
    },
    {
      "cell_type": "markdown",
      "source": [
        "**2.벡터,행렬 연산,그래프 그리기**"
      ],
      "metadata": {
        "id": "s9gzGgMC6Ay5"
      }
    },
    {
      "cell_type": "markdown",
      "source": [
        "**프린트**"
      ],
      "metadata": {
        "id": "JVzgZVmy6H2E"
      }
    },
    {
      "cell_type": "code",
      "source": [
        "def print_val(x):\n",
        "    print (\"Type:\",type(x))\n",
        "    print (\"Shape:\",x.shape)\n",
        "    print (\"값:\\n\",x)\n",
        "    print (\" \")"
      ],
      "metadata": {
        "id": "xtnpH_Sb6KA6"
      },
      "execution_count": null,
      "outputs": []
    },
    {
      "cell_type": "markdown",
      "source": [
        "**rank 1 np array**"
      ],
      "metadata": {
        "id": "xWAyui9i6t5m"
      }
    },
    {
      "cell_type": "code",
      "source": [
        "x = np.array([1, 2, 3])\n",
        "print_val(x)\n",
        "\n",
        "x[0]= 5\n",
        "print_val(x)"
      ],
      "metadata": {
        "colab": {
          "base_uri": "https://localhost:8080/"
        },
        "id": "uWvmw2RG6wTS",
        "outputId": "bb8327e2-a9a6-4508-8a54-4b3739d16c27"
      },
      "execution_count": null,
      "outputs": [
        {
          "output_type": "stream",
          "name": "stdout",
          "text": [
            "Type: <class 'numpy.ndarray'>\n",
            "Shape: (3,)\n",
            "값:\n",
            " [1 2 3]\n",
            " \n",
            "Type: <class 'numpy.ndarray'>\n",
            "Shape: (3,)\n",
            "값:\n",
            " [5 2 3]\n",
            " \n"
          ]
        }
      ]
    },
    {
      "cell_type": "markdown",
      "source": [
        "**rank 2 np array**"
      ],
      "metadata": {
        "id": "UbhKR0YmYjFF"
      }
    },
    {
      "cell_type": "code",
      "source": [
        "y= np.array([[1,2,3],[4,5,6]])\n",
        "print_val(y)"
      ],
      "metadata": {
        "colab": {
          "base_uri": "https://localhost:8080/"
        },
        "id": "wV8JLf1gYhzL",
        "outputId": "05e54cd1-5bcb-4867-817f-44e6c8eb3665"
      },
      "execution_count": null,
      "outputs": [
        {
          "output_type": "stream",
          "name": "stdout",
          "text": [
            "Type: <class 'numpy.ndarray'>\n",
            "Shape: (2, 3)\n",
            "값:\n",
            " [[1 2 3]\n",
            " [4 5 6]]\n",
            " \n"
          ]
        }
      ]
    },
    {
      "cell_type": "markdown",
      "source": [
        "**rank 2 zeros**"
      ],
      "metadata": {
        "id": "m4JWqO4nYyTS"
      }
    },
    {
      "cell_type": "code",
      "source": [
        "a=np.zeros((2,2))\n",
        "print_val(a)"
      ],
      "metadata": {
        "colab": {
          "base_uri": "https://localhost:8080/"
        },
        "id": "neOl5_P-Y85p",
        "outputId": "293fe09b-8b38-4293-8d17-b82483a9cba1"
      },
      "execution_count": null,
      "outputs": [
        {
          "output_type": "stream",
          "name": "stdout",
          "text": [
            "Type: <class 'numpy.ndarray'>\n",
            "Shape: (2, 2)\n",
            "값:\n",
            " [[0. 0.]\n",
            " [0. 0.]]\n",
            " \n"
          ]
        }
      ]
    },
    {
      "cell_type": "markdown",
      "source": [
        "**rank 2 ones**"
      ],
      "metadata": {
        "id": "7qe-yWkhZHvA"
      }
    },
    {
      "cell_type": "code",
      "source": [
        "a =np.ones((3,2))\n",
        "print_val(a)"
      ],
      "metadata": {
        "colab": {
          "base_uri": "https://localhost:8080/"
        },
        "id": "dkrTZHN6ZKPz",
        "outputId": "b4561f9d-f58f-410f-e7a1-f9857b04aed7"
      },
      "execution_count": null,
      "outputs": [
        {
          "output_type": "stream",
          "name": "stdout",
          "text": [
            "Type: <class 'numpy.ndarray'>\n",
            "Shape: (3, 2)\n",
            "값:\n",
            " [[1. 1.]\n",
            " [1. 1.]\n",
            " [1. 1.]]\n",
            " \n"
          ]
        }
      ]
    },
    {
      "cell_type": "markdown",
      "source": [],
      "metadata": {
        "id": "sty8rTnRZpsh"
      }
    },
    {
      "cell_type": "markdown",
      "source": [
        "**rank 2 단위 행렬(identity matrix)**"
      ],
      "metadata": {
        "id": "1MYHsGwgZUDE"
      }
    },
    {
      "cell_type": "code",
      "source": [
        "a=np.eye(3,3)\n",
        "print_val(a)"
      ],
      "metadata": {
        "colab": {
          "base_uri": "https://localhost:8080/"
        },
        "id": "d0wX0nkUZeFo",
        "outputId": "4d6a6a4b-0865-4558-fa14-1c0bf3850b41"
      },
      "execution_count": null,
      "outputs": [
        {
          "output_type": "stream",
          "name": "stdout",
          "text": [
            "Type: <class 'numpy.ndarray'>\n",
            "Shape: (3, 3)\n",
            "값:\n",
            " [[1. 0. 0.]\n",
            " [0. 1. 0.]\n",
            " [0. 0. 1.]]\n",
            " \n"
          ]
        }
      ]
    }
  ]
}