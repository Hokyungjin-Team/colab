{
  "nbformat": 4,
  "nbformat_minor": 0,
  "metadata": {
    "colab": {
      "provenance": [],
      "mount_file_id": "1Me-jdGageyv_JRXXMBTSicSodttOOMsH",
      "authorship_tag": "ABX9TyPmjVjleopwv8gVRM+mzt1N",
      "include_colab_link": true
    },
    "kernelspec": {
      "name": "python3",
      "display_name": "Python 3"
    },
    "language_info": {
      "name": "python"
    }
  },
  "cells": [
    {
      "cell_type": "markdown",
      "metadata": {
        "id": "view-in-github",
        "colab_type": "text"
      },
      "source": [
        "<a href=\"https://colab.research.google.com/github/Hokyungjin-Team/colab/blob/main/colab%EC%98%88%EC%8B%9C.ipynb\" target=\"_parent\"><img src=\"https://colab.research.google.com/assets/colab-badge.svg\" alt=\"Open In Colab\"/></a>"
      ]
    },
    {
      "cell_type": "code",
      "source": [
        "print (\"Hello, world\")\n",
        "\n",
        "x = 3\n",
        "print (\"정수 : %01d, %02d, %03d, %04d, %05d\" % (x, x, x, x, x))\n",
        "\n",
        "x = 256.123\n",
        "print (\"실수 : %.0f, %.1f, %.2f\" % (x,x,x))\n",
        "\n",
        "x = \"Hello, world\"\n",
        "print (\"문자열: [%s]\" % (x))"
      ],
      "metadata": {
        "id": "2bMgQ7CmT4v4",
        "colab": {
          "base_uri": "https://localhost:8080/"
        },
        "outputId": "87a9819a-bcf0-45d2-cb96-5e85b548c364"
      },
      "execution_count": 1,
      "outputs": [
        {
          "output_type": "stream",
          "name": "stdout",
          "text": [
            "Hello, world\n",
            "정수 : 3, 03, 003, 0003, 00003\n",
            "실수 : 256, 256.1, 256.12\n",
            "문자열: [Hello, world]\n"
          ]
        }
      ]
    }
  ]
}