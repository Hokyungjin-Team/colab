{
  "nbformat": 4,
  "nbformat_minor": 0,
  "metadata": {
    "colab": {
      "provenance": [],
      "mount_file_id": "1Me-jdGageyv_JRXXMBTSicSodttOOMsH",
      "authorship_tag": "ABX9TyNu0C7V+gUOP3tPXcVz6eUA",
      "include_colab_link": true
    },
    "kernelspec": {
      "name": "python3",
      "display_name": "Python 3"
    },
    "language_info": {
      "name": "python"
    }
  },
  "cells": [
    {
      "cell_type": "markdown",
      "metadata": {
        "id": "view-in-github",
        "colab_type": "text"
      },
      "source": [
        "<a href=\"https://colab.research.google.com/github/Hokyungjin-Team/colab/blob/main/colab%EC%98%88%EC%8B%9C.ipynb\" target=\"_parent\"><img src=\"https://colab.research.google.com/assets/colab-badge.svg\" alt=\"Open In Colab\"/></a>"
      ]
    },
    {
      "cell_type": "code",
      "source": [
        "print (\"Hello, world\")\n",
        "\n",
        "x = 3\n",
        "print (\"정수 : %01d, %02d\")"
      ],
      "metadata": {
        "id": "2bMgQ7CmT4v4"
      },
      "execution_count": null,
      "outputs": []
    }
  ]
}